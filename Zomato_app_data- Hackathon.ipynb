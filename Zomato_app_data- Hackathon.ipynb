{
 "cells": [
  {
   "cell_type": "markdown",
   "id": "f79fa93b",
   "metadata": {},
   "source": [
    "# Hackathon - zomato app data"
   ]
  },
  {
   "cell_type": "code",
   "execution_count": 1,
   "id": "a2295356",
   "metadata": {},
   "outputs": [],
   "source": [
    "import pandas as pd\n",
    "import numpy as np\n",
    "import matplotlib.pyplot as plt\n",
    "import seaborn as sns\n",
    "import time"
   ]
  },
  {
   "cell_type": "code",
   "execution_count": 3,
   "id": "9a0fd361",
   "metadata": {},
   "outputs": [
    {
     "data": {
      "text/html": [
       "<div>\n",
       "<style scoped>\n",
       "    .dataframe tbody tr th:only-of-type {\n",
       "        vertical-align: middle;\n",
       "    }\n",
       "\n",
       "    .dataframe tbody tr th {\n",
       "        vertical-align: top;\n",
       "    }\n",
       "\n",
       "    .dataframe thead th {\n",
       "        text-align: right;\n",
       "    }\n",
       "</style>\n",
       "<table border=\"1\" class=\"dataframe\">\n",
       "  <thead>\n",
       "    <tr style=\"text-align: right;\">\n",
       "      <th></th>\n",
       "      <th>online_order</th>\n",
       "      <th>book_table</th>\n",
       "      <th>rate</th>\n",
       "      <th>votes</th>\n",
       "      <th>rest_type</th>\n",
       "      <th>dish_liked</th>\n",
       "      <th>cuisines</th>\n",
       "      <th>approx_costfor_two_people</th>\n",
       "      <th>listed_intype</th>\n",
       "      <th>listed_incity</th>\n",
       "    </tr>\n",
       "  </thead>\n",
       "  <tbody>\n",
       "    <tr>\n",
       "      <th>0</th>\n",
       "      <td>Yes</td>\n",
       "      <td>Yes</td>\n",
       "      <td>4.1/5</td>\n",
       "      <td>775</td>\n",
       "      <td>Casual Dining</td>\n",
       "      <td>Pasta, Lunch Buffet, Masala Papad, Paneer Laja...</td>\n",
       "      <td>North Indian, Mughlai, Chinese</td>\n",
       "      <td>800</td>\n",
       "      <td>Buffet</td>\n",
       "      <td>Banashankari</td>\n",
       "    </tr>\n",
       "    <tr>\n",
       "      <th>1</th>\n",
       "      <td>Yes</td>\n",
       "      <td>No</td>\n",
       "      <td>4.1/5</td>\n",
       "      <td>787</td>\n",
       "      <td>Casual Dining</td>\n",
       "      <td>Momos, Lunch Buffet, Chocolate Nirvana, Thai G...</td>\n",
       "      <td>Chinese, North Indian, Thai</td>\n",
       "      <td>800</td>\n",
       "      <td>Buffet</td>\n",
       "      <td>Banashankari</td>\n",
       "    </tr>\n",
       "    <tr>\n",
       "      <th>2</th>\n",
       "      <td>Yes</td>\n",
       "      <td>No</td>\n",
       "      <td>3.8/5</td>\n",
       "      <td>918</td>\n",
       "      <td>Cafe, Casual Dining</td>\n",
       "      <td>Churros, Cannelloni, Minestrone Soup, Hot Choc...</td>\n",
       "      <td>Cafe, Mexican, Italian</td>\n",
       "      <td>800</td>\n",
       "      <td>Buffet</td>\n",
       "      <td>Banashankari</td>\n",
       "    </tr>\n",
       "    <tr>\n",
       "      <th>3</th>\n",
       "      <td>No</td>\n",
       "      <td>No</td>\n",
       "      <td>3.7/5</td>\n",
       "      <td>88</td>\n",
       "      <td>Quick Bites</td>\n",
       "      <td>Masala Dosa</td>\n",
       "      <td>South Indian, North Indian</td>\n",
       "      <td>300</td>\n",
       "      <td>Buffet</td>\n",
       "      <td>Banashankari</td>\n",
       "    </tr>\n",
       "    <tr>\n",
       "      <th>4</th>\n",
       "      <td>No</td>\n",
       "      <td>No</td>\n",
       "      <td>3.8/5</td>\n",
       "      <td>166</td>\n",
       "      <td>Casual Dining</td>\n",
       "      <td>Panipuri, Gol Gappe</td>\n",
       "      <td>North Indian, Rajasthani</td>\n",
       "      <td>600</td>\n",
       "      <td>Buffet</td>\n",
       "      <td>Banashankari</td>\n",
       "    </tr>\n",
       "  </tbody>\n",
       "</table>\n",
       "</div>"
      ],
      "text/plain": [
       "  online_order book_table   rate  votes            rest_type  \\\n",
       "0          Yes        Yes  4.1/5    775        Casual Dining   \n",
       "1          Yes         No  4.1/5    787        Casual Dining   \n",
       "2          Yes         No  3.8/5    918  Cafe, Casual Dining   \n",
       "3           No         No  3.7/5     88          Quick Bites   \n",
       "4           No         No  3.8/5    166        Casual Dining   \n",
       "\n",
       "                                          dish_liked  \\\n",
       "0  Pasta, Lunch Buffet, Masala Papad, Paneer Laja...   \n",
       "1  Momos, Lunch Buffet, Chocolate Nirvana, Thai G...   \n",
       "2  Churros, Cannelloni, Minestrone Soup, Hot Choc...   \n",
       "3                                        Masala Dosa   \n",
       "4                                Panipuri, Gol Gappe   \n",
       "\n",
       "                         cuisines approx_costfor_two_people listed_intype  \\\n",
       "0  North Indian, Mughlai, Chinese                       800        Buffet   \n",
       "1     Chinese, North Indian, Thai                       800        Buffet   \n",
       "2          Cafe, Mexican, Italian                       800        Buffet   \n",
       "3      South Indian, North Indian                       300        Buffet   \n",
       "4        North Indian, Rajasthani                       600        Buffet   \n",
       "\n",
       "  listed_incity  \n",
       "0  Banashankari  \n",
       "1  Banashankari  \n",
       "2  Banashankari  \n",
       "3  Banashankari  \n",
       "4  Banashankari  "
      ]
     },
     "execution_count": 3,
     "metadata": {},
     "output_type": "execute_result"
    }
   ],
   "source": [
    "df1 = pd.read_csv('Desktop/zomato_data/zomato_data.csv')\n",
    "df1.head()"
   ]
  },
  {
   "cell_type": "code",
   "execution_count": 4,
   "id": "db77548f",
   "metadata": {},
   "outputs": [
    {
     "data": {
      "text/html": [
       "<div>\n",
       "<style scoped>\n",
       "    .dataframe tbody tr th:only-of-type {\n",
       "        vertical-align: middle;\n",
       "    }\n",
       "\n",
       "    .dataframe tbody tr th {\n",
       "        vertical-align: top;\n",
       "    }\n",
       "\n",
       "    .dataframe thead th {\n",
       "        text-align: right;\n",
       "    }\n",
       "</style>\n",
       "<table border=\"1\" class=\"dataframe\">\n",
       "  <thead>\n",
       "    <tr style=\"text-align: right;\">\n",
       "      <th></th>\n",
       "      <th>listed_incity</th>\n",
       "      <th>Latitude</th>\n",
       "      <th>Longitude</th>\n",
       "    </tr>\n",
       "  </thead>\n",
       "  <tbody>\n",
       "    <tr>\n",
       "      <th>0</th>\n",
       "      <td>Banashankari</td>\n",
       "      <td>12.939333</td>\n",
       "      <td>77.553982</td>\n",
       "    </tr>\n",
       "    <tr>\n",
       "      <th>1</th>\n",
       "      <td>Bannerghatta Road</td>\n",
       "      <td>12.952660</td>\n",
       "      <td>77.605048</td>\n",
       "    </tr>\n",
       "    <tr>\n",
       "      <th>2</th>\n",
       "      <td>Basavanagudi</td>\n",
       "      <td>12.941726</td>\n",
       "      <td>77.575502</td>\n",
       "    </tr>\n",
       "    <tr>\n",
       "      <th>3</th>\n",
       "      <td>Bellandur</td>\n",
       "      <td>12.925352</td>\n",
       "      <td>77.675941</td>\n",
       "    </tr>\n",
       "    <tr>\n",
       "      <th>4</th>\n",
       "      <td>Brigade Road</td>\n",
       "      <td>12.967358</td>\n",
       "      <td>77.606435</td>\n",
       "    </tr>\n",
       "  </tbody>\n",
       "</table>\n",
       "</div>"
      ],
      "text/plain": [
       "       listed_incity   Latitude  Longitude\n",
       "0       Banashankari  12.939333  77.553982\n",
       "1  Bannerghatta Road  12.952660  77.605048\n",
       "2       Basavanagudi  12.941726  77.575502\n",
       "3          Bellandur  12.925352  77.675941\n",
       "4       Brigade Road  12.967358  77.606435"
      ]
     },
     "execution_count": 4,
     "metadata": {},
     "output_type": "execute_result"
    }
   ],
   "source": [
    "df2 = pd.read_csv('Desktop/zomato_data/Geographical Coordinates.csv')\n",
    "df2.head()"
   ]
  },
  {
   "cell_type": "markdown",
   "id": "96008c4f",
   "metadata": {},
   "source": [
    "# 1. What is the shape of the given dataset?"
   ]
  },
  {
   "cell_type": "code",
   "execution_count": 5,
   "id": "8c3452a0",
   "metadata": {},
   "outputs": [
    {
     "data": {
      "text/plain": [
       "(51717, 10)"
      ]
     },
     "execution_count": 5,
     "metadata": {},
     "output_type": "execute_result"
    }
   ],
   "source": [
    "df1.shape"
   ]
  },
  {
   "cell_type": "code",
   "execution_count": 6,
   "id": "ecc2b191",
   "metadata": {},
   "outputs": [
    {
     "data": {
      "text/plain": [
       "(26, 3)"
      ]
     },
     "execution_count": 6,
     "metadata": {},
     "output_type": "execute_result"
    }
   ],
   "source": [
    "df2.shape"
   ]
  },
  {
   "cell_type": "markdown",
   "id": "45eb5818",
   "metadata": {},
   "source": [
    "# 2. How many restaurants serve North Indian cuisine?\n"
   ]
  },
  {
   "cell_type": "code",
   "execution_count": 8,
   "id": "fdd738c1",
   "metadata": {},
   "outputs": [
    {
     "data": {
      "text/plain": [
       "cuisines\n",
       "False    30587\n",
       "True     21085\n",
       "Name: count, dtype: int64"
      ]
     },
     "execution_count": 8,
     "metadata": {},
     "output_type": "execute_result"
    }
   ],
   "source": [
    "df1['cuisines'].str.contains('North Indian').value_counts()"
   ]
  },
  {
   "cell_type": "markdown",
   "id": "5b12499f",
   "metadata": {},
   "source": [
    "# 3. What cuisine is most commonly offered by     restaurants in Bangalore?"
   ]
  },
  {
   "cell_type": "code",
   "execution_count": 9,
   "id": "2409ab99",
   "metadata": {},
   "outputs": [
    {
     "data": {
      "text/html": [
       "<div>\n",
       "<style scoped>\n",
       "    .dataframe tbody tr th:only-of-type {\n",
       "        vertical-align: middle;\n",
       "    }\n",
       "\n",
       "    .dataframe tbody tr th {\n",
       "        vertical-align: top;\n",
       "    }\n",
       "\n",
       "    .dataframe thead th {\n",
       "        text-align: right;\n",
       "    }\n",
       "</style>\n",
       "<table border=\"1\" class=\"dataframe\">\n",
       "  <thead>\n",
       "    <tr style=\"text-align: right;\">\n",
       "      <th></th>\n",
       "      <th>online_order</th>\n",
       "      <th>book_table</th>\n",
       "      <th>rate</th>\n",
       "      <th>votes</th>\n",
       "      <th>rest_type</th>\n",
       "      <th>dish_liked</th>\n",
       "      <th>cuisines</th>\n",
       "      <th>approx_costfor_two_people</th>\n",
       "      <th>listed_intype</th>\n",
       "      <th>listed_incity</th>\n",
       "    </tr>\n",
       "  </thead>\n",
       "  <tbody>\n",
       "    <tr>\n",
       "      <th>0</th>\n",
       "      <td>Yes</td>\n",
       "      <td>Yes</td>\n",
       "      <td>4.1/5</td>\n",
       "      <td>775</td>\n",
       "      <td>Casual Dining</td>\n",
       "      <td>Pasta, Lunch Buffet, Masala Papad, Paneer Laja...</td>\n",
       "      <td>North Indian, Mughlai, Chinese</td>\n",
       "      <td>800</td>\n",
       "      <td>Buffet</td>\n",
       "      <td>Banashankari</td>\n",
       "    </tr>\n",
       "    <tr>\n",
       "      <th>1</th>\n",
       "      <td>Yes</td>\n",
       "      <td>No</td>\n",
       "      <td>4.1/5</td>\n",
       "      <td>787</td>\n",
       "      <td>Casual Dining</td>\n",
       "      <td>Momos, Lunch Buffet, Chocolate Nirvana, Thai G...</td>\n",
       "      <td>Chinese, North Indian, Thai</td>\n",
       "      <td>800</td>\n",
       "      <td>Buffet</td>\n",
       "      <td>Banashankari</td>\n",
       "    </tr>\n",
       "    <tr>\n",
       "      <th>2</th>\n",
       "      <td>Yes</td>\n",
       "      <td>No</td>\n",
       "      <td>3.8/5</td>\n",
       "      <td>918</td>\n",
       "      <td>Cafe, Casual Dining</td>\n",
       "      <td>Churros, Cannelloni, Minestrone Soup, Hot Choc...</td>\n",
       "      <td>Cafe, Mexican, Italian</td>\n",
       "      <td>800</td>\n",
       "      <td>Buffet</td>\n",
       "      <td>Banashankari</td>\n",
       "    </tr>\n",
       "    <tr>\n",
       "      <th>3</th>\n",
       "      <td>No</td>\n",
       "      <td>No</td>\n",
       "      <td>3.7/5</td>\n",
       "      <td>88</td>\n",
       "      <td>Quick Bites</td>\n",
       "      <td>Masala Dosa</td>\n",
       "      <td>South Indian, North Indian</td>\n",
       "      <td>300</td>\n",
       "      <td>Buffet</td>\n",
       "      <td>Banashankari</td>\n",
       "    </tr>\n",
       "    <tr>\n",
       "      <th>4</th>\n",
       "      <td>No</td>\n",
       "      <td>No</td>\n",
       "      <td>3.8/5</td>\n",
       "      <td>166</td>\n",
       "      <td>Casual Dining</td>\n",
       "      <td>Panipuri, Gol Gappe</td>\n",
       "      <td>North Indian, Rajasthani</td>\n",
       "      <td>600</td>\n",
       "      <td>Buffet</td>\n",
       "      <td>Banashankari</td>\n",
       "    </tr>\n",
       "  </tbody>\n",
       "</table>\n",
       "</div>"
      ],
      "text/plain": [
       "  online_order book_table   rate  votes            rest_type  \\\n",
       "0          Yes        Yes  4.1/5    775        Casual Dining   \n",
       "1          Yes         No  4.1/5    787        Casual Dining   \n",
       "2          Yes         No  3.8/5    918  Cafe, Casual Dining   \n",
       "3           No         No  3.7/5     88          Quick Bites   \n",
       "4           No         No  3.8/5    166        Casual Dining   \n",
       "\n",
       "                                          dish_liked  \\\n",
       "0  Pasta, Lunch Buffet, Masala Papad, Paneer Laja...   \n",
       "1  Momos, Lunch Buffet, Chocolate Nirvana, Thai G...   \n",
       "2  Churros, Cannelloni, Minestrone Soup, Hot Choc...   \n",
       "3                                        Masala Dosa   \n",
       "4                                Panipuri, Gol Gappe   \n",
       "\n",
       "                         cuisines approx_costfor_two_people listed_intype  \\\n",
       "0  North Indian, Mughlai, Chinese                       800        Buffet   \n",
       "1     Chinese, North Indian, Thai                       800        Buffet   \n",
       "2          Cafe, Mexican, Italian                       800        Buffet   \n",
       "3      South Indian, North Indian                       300        Buffet   \n",
       "4        North Indian, Rajasthani                       600        Buffet   \n",
       "\n",
       "  listed_incity  \n",
       "0  Banashankari  \n",
       "1  Banashankari  \n",
       "2  Banashankari  \n",
       "3  Banashankari  \n",
       "4  Banashankari  "
      ]
     },
     "execution_count": 9,
     "metadata": {},
     "output_type": "execute_result"
    }
   ],
   "source": [
    "df1.head()"
   ]
  },
  {
   "cell_type": "code",
   "execution_count": 17,
   "id": "c4670dfc",
   "metadata": {},
   "outputs": [],
   "source": [
    "df1['cuisines'] = df1['cuisines'].fillna('Other')"
   ]
  },
  {
   "cell_type": "code",
   "execution_count": 18,
   "id": "16e5ef21",
   "metadata": {},
   "outputs": [],
   "source": [
    "df1['cuisines_split'] = df1['cuisines'].str.split(',')"
   ]
  },
  {
   "cell_type": "code",
   "execution_count": 19,
   "id": "2c1bb7b7",
   "metadata": {},
   "outputs": [],
   "source": [
    "df1['cuisines_split'] = df1['cuisines_split'].apply(lambda x: [i.strip() for i in x])"
   ]
  },
  {
   "cell_type": "code",
   "execution_count": 20,
   "id": "a32ffabd",
   "metadata": {},
   "outputs": [],
   "source": [
    "exploded = df1.explode('cuisines_split')"
   ]
  },
  {
   "cell_type": "code",
   "execution_count": 21,
   "id": "4a96d70e",
   "metadata": {},
   "outputs": [
    {
     "data": {
      "text/plain": [
       "cuisines_split\n",
       "North Indian    21085\n",
       "Chinese         15547\n",
       "South Indian     8644\n",
       "Fast Food        8096\n",
       "Biryani          6492\n",
       "                ...  \n",
       "Sindhi              4\n",
       "Pan Asian           3\n",
       "Hot dogs            3\n",
       "Indian              2\n",
       "Malwani             2\n",
       "Name: count, Length: 108, dtype: int64"
      ]
     },
     "execution_count": 21,
     "metadata": {},
     "output_type": "execute_result"
    }
   ],
   "source": [
    "exploded['cuisines_split'].value_counts()"
   ]
  },
  {
   "cell_type": "markdown",
   "id": "825923ca",
   "metadata": {},
   "source": [
    "# Data Cleaning and Preprocessing"
   ]
  },
  {
   "cell_type": "code",
   "execution_count": 22,
   "id": "d57e65e6",
   "metadata": {},
   "outputs": [
    {
     "data": {
      "text/html": [
       "<div>\n",
       "<style scoped>\n",
       "    .dataframe tbody tr th:only-of-type {\n",
       "        vertical-align: middle;\n",
       "    }\n",
       "\n",
       "    .dataframe tbody tr th {\n",
       "        vertical-align: top;\n",
       "    }\n",
       "\n",
       "    .dataframe thead th {\n",
       "        text-align: right;\n",
       "    }\n",
       "</style>\n",
       "<table border=\"1\" class=\"dataframe\">\n",
       "  <thead>\n",
       "    <tr style=\"text-align: right;\">\n",
       "      <th></th>\n",
       "      <th>online_order</th>\n",
       "      <th>book_table</th>\n",
       "      <th>rate</th>\n",
       "      <th>votes</th>\n",
       "      <th>rest_type</th>\n",
       "      <th>dish_liked</th>\n",
       "      <th>cuisines</th>\n",
       "      <th>approx_costfor_two_people</th>\n",
       "      <th>listed_intype</th>\n",
       "      <th>listed_incity</th>\n",
       "      <th>cuisines_split</th>\n",
       "    </tr>\n",
       "  </thead>\n",
       "  <tbody>\n",
       "    <tr>\n",
       "      <th>0</th>\n",
       "      <td>Yes</td>\n",
       "      <td>Yes</td>\n",
       "      <td>4.1/5</td>\n",
       "      <td>775</td>\n",
       "      <td>Casual Dining</td>\n",
       "      <td>Pasta, Lunch Buffet, Masala Papad, Paneer Laja...</td>\n",
       "      <td>North Indian, Mughlai, Chinese</td>\n",
       "      <td>800</td>\n",
       "      <td>Buffet</td>\n",
       "      <td>Banashankari</td>\n",
       "      <td>[North Indian, Mughlai, Chinese]</td>\n",
       "    </tr>\n",
       "  </tbody>\n",
       "</table>\n",
       "</div>"
      ],
      "text/plain": [
       "  online_order book_table   rate  votes      rest_type  \\\n",
       "0          Yes        Yes  4.1/5    775  Casual Dining   \n",
       "\n",
       "                                          dish_liked  \\\n",
       "0  Pasta, Lunch Buffet, Masala Papad, Paneer Laja...   \n",
       "\n",
       "                         cuisines approx_costfor_two_people listed_intype  \\\n",
       "0  North Indian, Mughlai, Chinese                       800        Buffet   \n",
       "\n",
       "  listed_incity                    cuisines_split  \n",
       "0  Banashankari  [North Indian, Mughlai, Chinese]  "
      ]
     },
     "execution_count": 22,
     "metadata": {},
     "output_type": "execute_result"
    }
   ],
   "source": [
    "df1.head(1)"
   ]
  },
  {
   "cell_type": "code",
   "execution_count": 23,
   "id": "8794c422",
   "metadata": {},
   "outputs": [
    {
     "data": {
      "text/plain": [
       "approx_costfor_two_people\n",
       "300      7576\n",
       "400      6562\n",
       "500      4980\n",
       "200      4857\n",
       "600      3714\n",
       "         ... \n",
       "60          1\n",
       "5,000       1\n",
       "3,700       1\n",
       "469         1\n",
       "160         1\n",
       "Name: count, Length: 70, dtype: int64"
      ]
     },
     "execution_count": 23,
     "metadata": {},
     "output_type": "execute_result"
    }
   ],
   "source": [
    "df1['approx_costfor_two_people'].value_counts()"
   ]
  },
  {
   "cell_type": "code",
   "execution_count": 24,
   "id": "e1e59ed4",
   "metadata": {},
   "outputs": [],
   "source": [
    "df1['approx_costfor_two_people'] = df1['approx_costfor_two_people'].str.replace(',', '', regex=False)"
   ]
  },
  {
   "cell_type": "code",
   "execution_count": 25,
   "id": "1978f132",
   "metadata": {},
   "outputs": [],
   "source": [
    "df1['approx_costfor_two_people'] = pd.to_numeric(df1['approx_costfor_two_people'], errors='coerce')"
   ]
  },
  {
   "cell_type": "code",
   "execution_count": 26,
   "id": "e6e485da",
   "metadata": {},
   "outputs": [],
   "source": [
    "median_cost = df1['approx_costfor_two_people'].median()\n",
    "df1['approx_costfor_two_people'] = df1['approx_costfor_two_people'].fillna(median_cost)"
   ]
  },
  {
   "cell_type": "code",
   "execution_count": 29,
   "id": "731ea689",
   "metadata": {},
   "outputs": [
    {
     "data": {
      "text/html": [
       "<div>\n",
       "<style scoped>\n",
       "    .dataframe tbody tr th:only-of-type {\n",
       "        vertical-align: middle;\n",
       "    }\n",
       "\n",
       "    .dataframe tbody tr th {\n",
       "        vertical-align: top;\n",
       "    }\n",
       "\n",
       "    .dataframe thead th {\n",
       "        text-align: right;\n",
       "    }\n",
       "</style>\n",
       "<table border=\"1\" class=\"dataframe\">\n",
       "  <thead>\n",
       "    <tr style=\"text-align: right;\">\n",
       "      <th></th>\n",
       "      <th>online_order</th>\n",
       "      <th>book_table</th>\n",
       "      <th>rate</th>\n",
       "      <th>votes</th>\n",
       "      <th>rest_type</th>\n",
       "      <th>dish_liked</th>\n",
       "      <th>cuisines</th>\n",
       "      <th>approx_costfor_two_people</th>\n",
       "      <th>listed_intype</th>\n",
       "      <th>listed_incity</th>\n",
       "      <th>cuisines_split</th>\n",
       "    </tr>\n",
       "  </thead>\n",
       "  <tbody>\n",
       "    <tr>\n",
       "      <th>0</th>\n",
       "      <td>Yes</td>\n",
       "      <td>Yes</td>\n",
       "      <td>4.1/5</td>\n",
       "      <td>775</td>\n",
       "      <td>Casual Dining</td>\n",
       "      <td>Pasta, Lunch Buffet, Masala Papad, Paneer Laja...</td>\n",
       "      <td>North Indian, Mughlai, Chinese</td>\n",
       "      <td>800.0</td>\n",
       "      <td>Buffet</td>\n",
       "      <td>Banashankari</td>\n",
       "      <td>[North Indian, Mughlai, Chinese]</td>\n",
       "    </tr>\n",
       "  </tbody>\n",
       "</table>\n",
       "</div>"
      ],
      "text/plain": [
       "  online_order book_table   rate  votes      rest_type  \\\n",
       "0          Yes        Yes  4.1/5    775  Casual Dining   \n",
       "\n",
       "                                          dish_liked  \\\n",
       "0  Pasta, Lunch Buffet, Masala Papad, Paneer Laja...   \n",
       "\n",
       "                         cuisines  approx_costfor_two_people listed_intype  \\\n",
       "0  North Indian, Mughlai, Chinese                      800.0        Buffet   \n",
       "\n",
       "  listed_incity                    cuisines_split  \n",
       "0  Banashankari  [North Indian, Mughlai, Chinese]  "
      ]
     },
     "execution_count": 29,
     "metadata": {},
     "output_type": "execute_result"
    }
   ],
   "source": [
    "df1.head(1)"
   ]
  },
  {
   "cell_type": "code",
   "execution_count": 30,
   "id": "802adbb6",
   "metadata": {},
   "outputs": [],
   "source": [
    "df1['rate'] = df1['rate'].replace('-', np.nan)\n",
    "df1['rate'] = df1['rate'].str.replace('/5', '', regex=False)\n",
    "df1['rate'] = pd.to_numeric(df1['rate'], errors='coerce')"
   ]
  },
  {
   "cell_type": "code",
   "execution_count": 31,
   "id": "d484c2e1",
   "metadata": {},
   "outputs": [],
   "source": [
    "median_rating = df1['rate'].median()\n",
    "df1['rate'] = df1['rate'].fillna(median_rating)"
   ]
  },
  {
   "cell_type": "code",
   "execution_count": 33,
   "id": "4ed9af12",
   "metadata": {},
   "outputs": [],
   "source": [
    "df1['dish_liked'] = df1['dish_liked'].fillna('Not Available')\n",
    "df1['rest_type'] = df1['rest_type'].fillna('Unknown')"
   ]
  },
  {
   "cell_type": "code",
   "execution_count": 36,
   "id": "53360120",
   "metadata": {},
   "outputs": [],
   "source": [
    "median_votes = df1['votes'].median()\n",
    "df1['votes'] = df1['votes'].fillna(median_votes)"
   ]
  },
  {
   "cell_type": "code",
   "execution_count": 37,
   "id": "cece0361",
   "metadata": {},
   "outputs": [
    {
     "name": "stderr",
     "output_type": "stream",
     "text": [
      "C:\\Users\\santosh\\AppData\\Local\\Temp\\ipykernel_29876\\3403225874.py:3: FutureWarning: Downcasting behavior in `replace` is deprecated and will be removed in a future version. To retain the old behavior, explicitly call `result.infer_objects(copy=False)`. To opt-in to the future behavior, set `pd.set_option('future.no_silent_downcasting', True)`\n",
      "  df1['online_order'] = df1['online_order'].replace(binary_mapping)\n",
      "C:\\Users\\santosh\\AppData\\Local\\Temp\\ipykernel_29876\\3403225874.py:4: FutureWarning: Downcasting behavior in `replace` is deprecated and will be removed in a future version. To retain the old behavior, explicitly call `result.infer_objects(copy=False)`. To opt-in to the future behavior, set `pd.set_option('future.no_silent_downcasting', True)`\n",
      "  df1['book_table'] = df1['book_table'].replace(binary_mapping)\n"
     ]
    }
   ],
   "source": [
    "binary_mapping = {'Yes': 1, 'No': 0}\n",
    "\n",
    "df1['online_order'] = df1['online_order'].replace(binary_mapping)\n",
    "df1['book_table'] = df1['book_table'].replace(binary_mapping)"
   ]
  },
  {
   "cell_type": "code",
   "execution_count": 38,
   "id": "16235e4a",
   "metadata": {},
   "outputs": [],
   "source": [
    "df1['approx_costfor_two_people'] = df1['approx_costfor_two_people'].astype(int)"
   ]
  },
  {
   "cell_type": "markdown",
   "id": "e6eddfdd",
   "metadata": {},
   "source": [
    "# 4. Which locality in Bangalore has the highest average cost for dining (for two people)?"
   ]
  },
  {
   "cell_type": "code",
   "execution_count": 44,
   "id": "05e39526",
   "metadata": {},
   "outputs": [],
   "source": [
    "avg_cost_by_locality = df1.groupby('listed_incity')['approx_costfor_two_people'].mean()"
   ]
  },
  {
   "cell_type": "code",
   "execution_count": 47,
   "id": "1bb2aa38",
   "metadata": {},
   "outputs": [
    {
     "data": {
      "text/plain": [
       "'Church Street'"
      ]
     },
     "execution_count": 47,
     "metadata": {},
     "output_type": "execute_result"
    }
   ],
   "source": [
    "highest_avg_cost_locality = avg_cost_by_locality.idxmax()\n",
    "highest_avg_cost_locality"
   ]
  },
  {
   "cell_type": "code",
   "execution_count": 48,
   "id": "19b5ba38",
   "metadata": {},
   "outputs": [
    {
     "data": {
      "text/plain": [
       "770.3612479474549"
      ]
     },
     "execution_count": 48,
     "metadata": {},
     "output_type": "execute_result"
    }
   ],
   "source": [
    "highest_avg_cost_value = avg_cost_by_locality.max()\n",
    "highest_avg_cost_value"
   ]
  },
  {
   "cell_type": "markdown",
   "id": "8776db80",
   "metadata": {},
   "source": [
    "# 5. Which restaurant type has the top rating with over 1000 votes?\n"
   ]
  },
  {
   "cell_type": "code",
   "execution_count": 53,
   "id": "a04667ed",
   "metadata": {},
   "outputs": [],
   "source": [
    "filtered_df = df1[df1['votes'] > 1000]"
   ]
  },
  {
   "cell_type": "code",
   "execution_count": 56,
   "id": "d9a62f8b",
   "metadata": {},
   "outputs": [],
   "source": [
    "top_restaurant_type = filtered_df.groupby('rest_type')['rate'].max()"
   ]
  },
  {
   "cell_type": "code",
   "execution_count": 59,
   "id": "051dd5d3",
   "metadata": {},
   "outputs": [
    {
     "data": {
      "text/plain": [
       "rest_type\n",
       "Bakery                         4.8\n",
       "Bakery, Cafe                   4.4\n",
       "Bar                            4.8\n",
       "Bar, Casual Dining             4.6\n",
       "Bar, Quick Bites               4.0\n",
       "Cafe                           4.6\n",
       "Cafe, Bakery                   4.4\n",
       "Cafe, Casual Dining            4.7\n",
       "Cafe, Dessert Parlor           4.7\n",
       "Casual Dining                  4.9\n",
       "Casual Dining, Bar             4.9\n",
       "Casual Dining, Cafe            4.6\n",
       "Casual Dining, Irani Cafee     4.5\n",
       "Casual Dining, Microbrewery    4.5\n",
       "Casual Dining, Pub             4.6\n",
       "Club                           4.1\n",
       "Delivery                       4.6\n",
       "Dessert Parlor                 4.9\n",
       "Dessert Parlor, Cafe           4.6\n",
       "Fine Dining                    4.6\n",
       "Fine Dining, Lounge            4.4\n",
       "Lounge                         4.6\n",
       "Lounge, Cafe                   4.0\n",
       "Lounge, Casual Dining          4.3\n",
       "Lounge, Microbrewery           3.8\n",
       "Microbrewery                   4.9\n",
       "Microbrewery, Bar              4.5\n",
       "Microbrewery, Casual Dining    4.7\n",
       "Microbrewery, Lounge           4.3\n",
       "Microbrewery, Pub              4.7\n",
       "Pub                            4.8\n",
       "Pub, Bar                       4.0\n",
       "Pub, Cafe                      4.7\n",
       "Pub, Casual Dining             4.5\n",
       "Pub, Microbrewery              4.7\n",
       "Quick Bites                    4.8\n",
       "Quick Bites, Dessert Parlor    4.1\n",
       "Sweet Shop                     4.2\n",
       "Takeaway, Delivery             4.1\n",
       "Name: rate, dtype: float64"
      ]
     },
     "execution_count": 59,
     "metadata": {},
     "output_type": "execute_result"
    }
   ],
   "source": [
    "top_restaurant_type"
   ]
  },
  {
   "cell_type": "code",
   "execution_count": 60,
   "id": "23ec5c73",
   "metadata": {},
   "outputs": [
    {
     "data": {
      "text/plain": [
       "4.9"
      ]
     },
     "execution_count": 60,
     "metadata": {},
     "output_type": "execute_result"
    }
   ],
   "source": [
    "top_restaurant_type.max()"
   ]
  },
  {
   "cell_type": "code",
   "execution_count": 58,
   "id": "503dd6b6",
   "metadata": {},
   "outputs": [
    {
     "data": {
      "text/plain": [
       "'Casual Dining'"
      ]
     },
     "execution_count": 58,
     "metadata": {},
     "output_type": "execute_result"
    }
   ],
   "source": [
    "top_restaurant_type.idxmax()"
   ]
  },
  {
   "cell_type": "markdown",
   "id": "0564a832",
   "metadata": {},
   "source": [
    "# 6. How much does it cost at minimum to eat out in Bangalore?"
   ]
  },
  {
   "cell_type": "code",
   "execution_count": 71,
   "id": "75159aa5",
   "metadata": {},
   "outputs": [
    {
     "data": {
      "text/plain": [
       "approx_costfor_two_people\n",
       "300     7576\n",
       "400     6908\n",
       "500     4980\n",
       "200     4857\n",
       "600     3714\n",
       "        ... \n",
       "60         1\n",
       "5000       1\n",
       "3700       1\n",
       "469        1\n",
       "160        1\n",
       "Name: count, Length: 70, dtype: int64"
      ]
     },
     "execution_count": 71,
     "metadata": {},
     "output_type": "execute_result"
    }
   ],
   "source": [
    "df1['approx_costfor_two_people'].value_counts()"
   ]
  },
  {
   "cell_type": "markdown",
   "id": "b64f72e8",
   "metadata": {},
   "source": [
    "# 7. What percentage of total online orders is received by restaurants in Banashankari?"
   ]
  },
  {
   "cell_type": "code",
   "execution_count": 75,
   "id": "349bc901",
   "metadata": {},
   "outputs": [],
   "source": [
    "online_orders_df = df1[df1['online_order'] == 1]\n"
   ]
  },
  {
   "cell_type": "code",
   "execution_count": 85,
   "id": "7f1e0701",
   "metadata": {},
   "outputs": [
    {
     "data": {
      "text/plain": [
       "30444"
      ]
     },
     "execution_count": 85,
     "metadata": {},
     "output_type": "execute_result"
    }
   ],
   "source": [
    "total_online_orders = online_orders_df.shape[0]\n",
    "total_online_orders"
   ]
  },
  {
   "cell_type": "code",
   "execution_count": 86,
   "id": "027790fa",
   "metadata": {},
   "outputs": [
    {
     "data": {
      "text/plain": [
       "546"
      ]
     },
     "execution_count": 86,
     "metadata": {},
     "output_type": "execute_result"
    }
   ],
   "source": [
    "banashankari_orders = online_orders_df[online_orders_df['listed_incity'] == 'Banashankari'].shape[0]\n",
    "banashankari_orders"
   ]
  },
  {
   "cell_type": "code",
   "execution_count": 103,
   "id": "64f81927",
   "metadata": {},
   "outputs": [
    {
     "data": {
      "text/plain": [
       "1.7934568387859677"
      ]
     },
     "execution_count": 103,
     "metadata": {},
     "output_type": "execute_result"
    }
   ],
   "source": [
    "percentage = (banashankari_orders / total_online_orders)*100\n",
    "percentage"
   ]
  },
  {
   "cell_type": "markdown",
   "id": "2e271f98",
   "metadata": {},
   "source": [
    "# 8. Which locality has the most restaurants with over 500 votes and a rating below 3.0?"
   ]
  },
  {
   "cell_type": "code",
   "execution_count": 108,
   "id": "0d437ffa",
   "metadata": {},
   "outputs": [],
   "source": [
    "filtered_df = df1[(df1['votes'] > 500) & (df1['rate'] < 3.0)]"
   ]
  },
  {
   "cell_type": "code",
   "execution_count": 109,
   "id": "3429acbb",
   "metadata": {},
   "outputs": [
    {
     "data": {
      "text/plain": [
       "listed_incity\n",
       "Brookefield              8\n",
       "Whitefield               6\n",
       "Indiranagar              4\n",
       "Old Airport Road         4\n",
       "Bellandur                3\n",
       "Marathahalli             3\n",
       "Banashankari             2\n",
       "Koramangala 4th Block    2\n",
       "Koramangala 5th Block    2\n",
       "Koramangala 6th Block    2\n",
       "Koramangala 7th Block    2\n",
       "Sarjapur Road            2\n",
       "HSR                      1\n",
       "Kalyan Nagar             1\n",
       "Kammanahalli             1\n",
       "Name: count, dtype: int64"
      ]
     },
     "execution_count": 109,
     "metadata": {},
     "output_type": "execute_result"
    }
   ],
   "source": [
    "filtered_df['listed_incity'].value_counts()"
   ]
  },
  {
   "cell_type": "code",
   "execution_count": 110,
   "id": "bf3b0f20",
   "metadata": {},
   "outputs": [],
   "source": [
    "count_by_locality = filtered_df['listed_incity'].value_counts()"
   ]
  },
  {
   "cell_type": "code",
   "execution_count": 111,
   "id": "4b3d83c6",
   "metadata": {},
   "outputs": [
    {
     "data": {
      "text/plain": [
       "'Brookefield'"
      ]
     },
     "execution_count": 111,
     "metadata": {},
     "output_type": "execute_result"
    }
   ],
   "source": [
    "count_by_locality.idxmax()"
   ]
  },
  {
   "cell_type": "code",
   "execution_count": 112,
   "id": "6fc375a0",
   "metadata": {},
   "outputs": [
    {
     "data": {
      "text/plain": [
       "8"
      ]
     },
     "execution_count": 112,
     "metadata": {},
     "output_type": "execute_result"
    }
   ],
   "source": [
    "count_by_locality.max()"
   ]
  },
  {
   "cell_type": "markdown",
   "id": "1544e9d2",
   "metadata": {},
   "source": [
    "# 9. Which locality in Bangalore should Zomato target for expansion based on restaurant type diversity?"
   ]
  },
  {
   "cell_type": "code",
   "execution_count": 116,
   "id": "1145bed1",
   "metadata": {},
   "outputs": [
    {
     "data": {
      "text/plain": [
       "Index(['online_order', 'book_table', 'rate', 'votes', 'rest_type',\n",
       "       'dish_liked', 'cuisines', 'approx_costfor_two_people', 'listed_intype',\n",
       "       'listed_incity', 'cuisines_split'],\n",
       "      dtype='object')"
      ]
     },
     "execution_count": 116,
     "metadata": {},
     "output_type": "execute_result"
    }
   ],
   "source": [
    "df1.columns"
   ]
  },
  {
   "cell_type": "code",
   "execution_count": 118,
   "id": "d3a5f1c6",
   "metadata": {},
   "outputs": [
    {
     "data": {
      "text/plain": [
       "listed_incity\n",
       "BTM                      62\n",
       "Banashankari             37\n",
       "Bannerghatta Road        47\n",
       "Basavanagudi             40\n",
       "Bellandur                49\n",
       "Brigade Road             61\n",
       "Brookefield              50\n",
       "Church Street            61\n",
       "Electronic City          35\n",
       "Frazer Town              51\n",
       "HSR                      50\n",
       "Indiranagar              56\n",
       "JP Nagar                 49\n",
       "Jayanagar                53\n",
       "Kalyan Nagar             42\n",
       "Kammanahalli             42\n",
       "Koramangala 4th Block    59\n",
       "Koramangala 5th Block    58\n",
       "Koramangala 6th Block    59\n",
       "Koramangala 7th Block    58\n",
       "Lavelle Road             59\n",
       "MG Road                  59\n",
       "Malleshwaram             47\n",
       "Marathahalli             44\n",
       "New BEL Road             35\n",
       "Old Airport Road         50\n",
       "Rajajinagar              46\n",
       "Residency Road           57\n",
       "Sarjapur Road            45\n",
       "Whitefield               54\n",
       "Name: rest_type, dtype: int64"
      ]
     },
     "execution_count": 118,
     "metadata": {},
     "output_type": "execute_result"
    }
   ],
   "source": [
    "df1.groupby('listed_incity')['rest_type'].nunique()"
   ]
  },
  {
   "cell_type": "code",
   "execution_count": 120,
   "id": "35379fe4",
   "metadata": {},
   "outputs": [],
   "source": [
    "rest_type_diversity = df1.groupby('listed_incity')['rest_type'].nunique()"
   ]
  },
  {
   "cell_type": "code",
   "execution_count": 123,
   "id": "6198798a",
   "metadata": {},
   "outputs": [
    {
     "data": {
      "text/plain": [
       "'BTM'"
      ]
     },
     "execution_count": 123,
     "metadata": {},
     "output_type": "execute_result"
    }
   ],
   "source": [
    "target_locality = rest_type_diversity.idxmax()\n",
    "target_locality"
   ]
  },
  {
   "cell_type": "code",
   "execution_count": 124,
   "id": "6e1a62ea",
   "metadata": {},
   "outputs": [
    {
     "data": {
      "text/plain": [
       "62"
      ]
     },
     "execution_count": 124,
     "metadata": {},
     "output_type": "execute_result"
    }
   ],
   "source": [
    "diversity_count = rest_type_diversity.max()\n",
    "diversity_count"
   ]
  },
  {
   "cell_type": "markdown",
   "id": "490c3c92",
   "metadata": {},
   "source": [
    "# 10. What's the average cost difference between buffet and delivery restaurants?"
   ]
  },
  {
   "cell_type": "code",
   "execution_count": 126,
   "id": "256effd6",
   "metadata": {},
   "outputs": [
    {
     "data": {
      "text/plain": [
       "listed_intype\n",
       "Delivery              25942\n",
       "Dine-out              17779\n",
       "Desserts               3593\n",
       "Cafes                  1723\n",
       "Drinks & nightlife     1101\n",
       "Buffet                  882\n",
       "Pubs and bars           697\n",
       "Name: count, dtype: int64"
      ]
     },
     "execution_count": 126,
     "metadata": {},
     "output_type": "execute_result"
    }
   ],
   "source": [
    "df1['listed_intype'].value_counts()"
   ]
  },
  {
   "cell_type": "code",
   "execution_count": 127,
   "id": "62fc2d0a",
   "metadata": {},
   "outputs": [],
   "source": [
    "buffet_df = df1[df1['listed_intype'].str.contains('Buffet')]\n",
    "delivery_df = df1[df1['listed_intype'].str.contains('Delivery')]"
   ]
  },
  {
   "cell_type": "code",
   "execution_count": 130,
   "id": "ea7d6d9c",
   "metadata": {},
   "outputs": [
    {
     "data": {
      "text/plain": [
       "1295.3514739229024"
      ]
     },
     "execution_count": 130,
     "metadata": {},
     "output_type": "execute_result"
    }
   ],
   "source": [
    "avg_cost_buffet = buffet_df['approx_costfor_two_people'].mean()\n",
    "avg_cost_buffet"
   ]
  },
  {
   "cell_type": "code",
   "execution_count": 131,
   "id": "f0d7d3b7",
   "metadata": {},
   "outputs": [
    {
     "data": {
      "text/plain": [
       "464.1001079330815"
      ]
     },
     "execution_count": 131,
     "metadata": {},
     "output_type": "execute_result"
    }
   ],
   "source": [
    "avg_cost_delivery = delivery_df['approx_costfor_two_people'].mean()\n",
    "avg_cost_delivery"
   ]
  },
  {
   "cell_type": "code",
   "execution_count": 133,
   "id": "db51e9e6",
   "metadata": {},
   "outputs": [
    {
     "data": {
      "text/plain": [
       "831.2513659898209"
      ]
     },
     "execution_count": 133,
     "metadata": {},
     "output_type": "execute_result"
    }
   ],
   "source": [
    "cost_difference = avg_cost_buffet - avg_cost_delivery\n",
    "cost_difference"
   ]
  },
  {
   "cell_type": "markdown",
   "id": "24b9c4ab",
   "metadata": {},
   "source": [
    "# 11 . What is the maximum number of votes received by any restaurant with online ordering?"
   ]
  },
  {
   "cell_type": "code",
   "execution_count": 134,
   "id": "b5d52617",
   "metadata": {},
   "outputs": [
    {
     "data": {
      "text/plain": [
       "16832"
      ]
     },
     "execution_count": 134,
     "metadata": {},
     "output_type": "execute_result"
    }
   ],
   "source": [
    "online_df = df1[df1['online_order'] == 1]\n",
    "online_df['votes'].max()"
   ]
  },
  {
   "cell_type": "markdown",
   "id": "fb8cdcfb",
   "metadata": {},
   "source": [
    "# 12. What is the average rating of restaurants that serve both North Indian and Chinese cuisines?"
   ]
  },
  {
   "cell_type": "code",
   "execution_count": 135,
   "id": "b8cf3bac",
   "metadata": {},
   "outputs": [
    {
     "data": {
      "text/html": [
       "<div>\n",
       "<style scoped>\n",
       "    .dataframe tbody tr th:only-of-type {\n",
       "        vertical-align: middle;\n",
       "    }\n",
       "\n",
       "    .dataframe tbody tr th {\n",
       "        vertical-align: top;\n",
       "    }\n",
       "\n",
       "    .dataframe thead th {\n",
       "        text-align: right;\n",
       "    }\n",
       "</style>\n",
       "<table border=\"1\" class=\"dataframe\">\n",
       "  <thead>\n",
       "    <tr style=\"text-align: right;\">\n",
       "      <th></th>\n",
       "      <th>online_order</th>\n",
       "      <th>book_table</th>\n",
       "      <th>rate</th>\n",
       "      <th>votes</th>\n",
       "      <th>rest_type</th>\n",
       "      <th>dish_liked</th>\n",
       "      <th>cuisines</th>\n",
       "      <th>approx_costfor_two_people</th>\n",
       "      <th>listed_intype</th>\n",
       "      <th>listed_incity</th>\n",
       "      <th>cuisines_split</th>\n",
       "    </tr>\n",
       "  </thead>\n",
       "  <tbody>\n",
       "    <tr>\n",
       "      <th>0</th>\n",
       "      <td>1</td>\n",
       "      <td>1</td>\n",
       "      <td>4.1</td>\n",
       "      <td>775</td>\n",
       "      <td>Casual Dining</td>\n",
       "      <td>Pasta, Lunch Buffet, Masala Papad, Paneer Laja...</td>\n",
       "      <td>North Indian, Mughlai, Chinese</td>\n",
       "      <td>800</td>\n",
       "      <td>Buffet</td>\n",
       "      <td>Banashankari</td>\n",
       "      <td>[North Indian, Mughlai, Chinese]</td>\n",
       "    </tr>\n",
       "  </tbody>\n",
       "</table>\n",
       "</div>"
      ],
      "text/plain": [
       "   online_order  book_table  rate  votes      rest_type  \\\n",
       "0             1           1   4.1    775  Casual Dining   \n",
       "\n",
       "                                          dish_liked  \\\n",
       "0  Pasta, Lunch Buffet, Masala Papad, Paneer Laja...   \n",
       "\n",
       "                         cuisines  approx_costfor_two_people listed_intype  \\\n",
       "0  North Indian, Mughlai, Chinese                        800        Buffet   \n",
       "\n",
       "  listed_incity                    cuisines_split  \n",
       "0  Banashankari  [North Indian, Mughlai, Chinese]  "
      ]
     },
     "execution_count": 135,
     "metadata": {},
     "output_type": "execute_result"
    }
   ],
   "source": [
    "df1.head(1)"
   ]
  },
  {
   "cell_type": "code",
   "execution_count": 137,
   "id": "2d95e7e3",
   "metadata": {},
   "outputs": [],
   "source": [
    "n_c = df1['cuisines'].str.contains('North Indian', na=False) & df1['cuisines'].str.contains('Chinese', na=False)"
   ]
  },
  {
   "cell_type": "code",
   "execution_count": 142,
   "id": "c0b78164",
   "metadata": {},
   "outputs": [
    {
     "data": {
      "text/html": [
       "<div>\n",
       "<style scoped>\n",
       "    .dataframe tbody tr th:only-of-type {\n",
       "        vertical-align: middle;\n",
       "    }\n",
       "\n",
       "    .dataframe tbody tr th {\n",
       "        vertical-align: top;\n",
       "    }\n",
       "\n",
       "    .dataframe thead th {\n",
       "        text-align: right;\n",
       "    }\n",
       "</style>\n",
       "<table border=\"1\" class=\"dataframe\">\n",
       "  <thead>\n",
       "    <tr style=\"text-align: right;\">\n",
       "      <th></th>\n",
       "      <th>online_order</th>\n",
       "      <th>book_table</th>\n",
       "      <th>rate</th>\n",
       "      <th>votes</th>\n",
       "      <th>rest_type</th>\n",
       "      <th>dish_liked</th>\n",
       "      <th>cuisines</th>\n",
       "      <th>approx_costfor_two_people</th>\n",
       "      <th>listed_intype</th>\n",
       "      <th>listed_incity</th>\n",
       "      <th>cuisines_split</th>\n",
       "    </tr>\n",
       "  </thead>\n",
       "  <tbody>\n",
       "    <tr>\n",
       "      <th>0</th>\n",
       "      <td>1</td>\n",
       "      <td>1</td>\n",
       "      <td>4.1</td>\n",
       "      <td>775</td>\n",
       "      <td>Casual Dining</td>\n",
       "      <td>Pasta, Lunch Buffet, Masala Papad, Paneer Laja...</td>\n",
       "      <td>North Indian, Mughlai, Chinese</td>\n",
       "      <td>800</td>\n",
       "      <td>Buffet</td>\n",
       "      <td>Banashankari</td>\n",
       "      <td>[North Indian, Mughlai, Chinese]</td>\n",
       "    </tr>\n",
       "  </tbody>\n",
       "</table>\n",
       "</div>"
      ],
      "text/plain": [
       "   online_order  book_table  rate  votes      rest_type  \\\n",
       "0             1           1   4.1    775  Casual Dining   \n",
       "\n",
       "                                          dish_liked  \\\n",
       "0  Pasta, Lunch Buffet, Masala Papad, Paneer Laja...   \n",
       "\n",
       "                         cuisines  approx_costfor_two_people listed_intype  \\\n",
       "0  North Indian, Mughlai, Chinese                        800        Buffet   \n",
       "\n",
       "  listed_incity                    cuisines_split  \n",
       "0  Banashankari  [North Indian, Mughlai, Chinese]  "
      ]
     },
     "execution_count": 142,
     "metadata": {},
     "output_type": "execute_result"
    }
   ],
   "source": [
    "north_indian_chinese_df = df1[n_c]\n",
    "north_indian_chinese_df.head(1)"
   ]
  },
  {
   "cell_type": "code",
   "execution_count": 143,
   "id": "10c25dea",
   "metadata": {},
   "outputs": [
    {
     "data": {
      "text/plain": [
       "3.5919080217658412"
      ]
     },
     "execution_count": 143,
     "metadata": {},
     "output_type": "execute_result"
    }
   ],
   "source": [
    "north_indian_chinese_df['rate'].mean()"
   ]
  },
  {
   "cell_type": "markdown",
   "id": "eeb9d3c4",
   "metadata": {},
   "source": [
    "# 13. What is the most profitable area for Zomato based on potential revenue estimation?"
   ]
  },
  {
   "cell_type": "code",
   "execution_count": 145,
   "id": "ec89cf7a",
   "metadata": {},
   "outputs": [
    {
     "data": {
      "text/html": [
       "<div>\n",
       "<style scoped>\n",
       "    .dataframe tbody tr th:only-of-type {\n",
       "        vertical-align: middle;\n",
       "    }\n",
       "\n",
       "    .dataframe tbody tr th {\n",
       "        vertical-align: top;\n",
       "    }\n",
       "\n",
       "    .dataframe thead th {\n",
       "        text-align: right;\n",
       "    }\n",
       "</style>\n",
       "<table border=\"1\" class=\"dataframe\">\n",
       "  <thead>\n",
       "    <tr style=\"text-align: right;\">\n",
       "      <th></th>\n",
       "      <th>online_order</th>\n",
       "      <th>book_table</th>\n",
       "      <th>rate</th>\n",
       "      <th>votes</th>\n",
       "      <th>rest_type</th>\n",
       "      <th>dish_liked</th>\n",
       "      <th>cuisines</th>\n",
       "      <th>approx_costfor_two_people</th>\n",
       "      <th>listed_intype</th>\n",
       "      <th>listed_incity</th>\n",
       "      <th>cuisines_split</th>\n",
       "      <th>estimated_revenue</th>\n",
       "    </tr>\n",
       "  </thead>\n",
       "  <tbody>\n",
       "    <tr>\n",
       "      <th>0</th>\n",
       "      <td>1</td>\n",
       "      <td>1</td>\n",
       "      <td>4.1</td>\n",
       "      <td>775</td>\n",
       "      <td>Casual Dining</td>\n",
       "      <td>Pasta, Lunch Buffet, Masala Papad, Paneer Laja...</td>\n",
       "      <td>North Indian, Mughlai, Chinese</td>\n",
       "      <td>800</td>\n",
       "      <td>Buffet</td>\n",
       "      <td>Banashankari</td>\n",
       "      <td>[North Indian, Mughlai, Chinese]</td>\n",
       "      <td>620000</td>\n",
       "    </tr>\n",
       "  </tbody>\n",
       "</table>\n",
       "</div>"
      ],
      "text/plain": [
       "   online_order  book_table  rate  votes      rest_type  \\\n",
       "0             1           1   4.1    775  Casual Dining   \n",
       "\n",
       "                                          dish_liked  \\\n",
       "0  Pasta, Lunch Buffet, Masala Papad, Paneer Laja...   \n",
       "\n",
       "                         cuisines  approx_costfor_two_people listed_intype  \\\n",
       "0  North Indian, Mughlai, Chinese                        800        Buffet   \n",
       "\n",
       "  listed_incity                    cuisines_split  estimated_revenue  \n",
       "0  Banashankari  [North Indian, Mughlai, Chinese]             620000  "
      ]
     },
     "execution_count": 145,
     "metadata": {},
     "output_type": "execute_result"
    }
   ],
   "source": [
    "df1['estimated_revenue'] = df1['votes'] * df1['approx_costfor_two_people']\n",
    "df1.head(1)"
   ]
  },
  {
   "cell_type": "code",
   "execution_count": 147,
   "id": "55d467b4",
   "metadata": {},
   "outputs": [],
   "source": [
    "revenue_by_locality = df1.groupby('listed_incity')['estimated_revenue'].sum()"
   ]
  },
  {
   "cell_type": "code",
   "execution_count": 148,
   "id": "7550b395",
   "metadata": {},
   "outputs": [
    {
     "data": {
      "text/plain": [
       "'Koramangala 7th Block'"
      ]
     },
     "execution_count": 148,
     "metadata": {},
     "output_type": "execute_result"
    }
   ],
   "source": [
    "revenue_by_locality.idxmax()"
   ]
  },
  {
   "cell_type": "code",
   "execution_count": 149,
   "id": "caabb0aa",
   "metadata": {},
   "outputs": [
    {
     "data": {
      "text/plain": [
       "1006195610"
      ]
     },
     "execution_count": 149,
     "metadata": {},
     "output_type": "execute_result"
    }
   ],
   "source": [
    "revenue_by_locality.max()"
   ]
  },
  {
   "cell_type": "markdown",
   "id": "d01c2187",
   "metadata": {},
   "source": [
    "# 14. If Zomato wants to reduce customer complaints, which restaurant type should they focus on?"
   ]
  },
  {
   "cell_type": "code",
   "execution_count": 152,
   "id": "cc96fbe8",
   "metadata": {},
   "outputs": [],
   "source": [
    "low_rated_df = df1[df1['rate'] < 3.0]"
   ]
  },
  {
   "cell_type": "code",
   "execution_count": 153,
   "id": "49c72c21",
   "metadata": {},
   "outputs": [
    {
     "data": {
      "text/plain": [
       "rest_type\n",
       "Quick Bites                    738\n",
       "Casual Dining                  730\n",
       "Cafe                           182\n",
       "Delivery                       115\n",
       "Takeaway, Delivery              93\n",
       "Food Court                      64\n",
       "Bakery, Quick Bites             52\n",
       "Dessert Parlor                  36\n",
       "Unknown                         35\n",
       "Casual Dining, Bar              27\n",
       "Pub                             20\n",
       "Beverage Shop                   18\n",
       "Lounge                          17\n",
       "Bakery                          16\n",
       "Bar, Casual Dining              12\n",
       "Quick Bites, Cafe               12\n",
       "Quick Bites, Sweet Shop         11\n",
       "Bar                             10\n",
       "Sweet Shop                       9\n",
       "Food Court, Quick Bites          9\n",
       "Dessert Parlor, Cafe             9\n",
       "Sweet Shop, Quick Bites          8\n",
       "Quick Bites, Dessert Parlor      8\n",
       "Bakery, Cafe                     8\n",
       "Quick Bites, Food Court          5\n",
       "Mess                             4\n",
       "Bakery, Dessert Parlor           4\n",
       "Kiosk                            3\n",
       "Dessert Parlor, Kiosk            1\n",
       "Food Court, Casual Dining        1\n",
       "Name: count, dtype: int64"
      ]
     },
     "execution_count": 153,
     "metadata": {},
     "output_type": "execute_result"
    }
   ],
   "source": [
    "low_rated_df['rest_type'].value_counts()"
   ]
  },
  {
   "cell_type": "code",
   "execution_count": 154,
   "id": "f8929072",
   "metadata": {},
   "outputs": [],
   "source": [
    "complaint_prone_types = low_rated_df['rest_type'].value_counts()"
   ]
  },
  {
   "cell_type": "code",
   "execution_count": 155,
   "id": "9fc8b261",
   "metadata": {},
   "outputs": [
    {
     "data": {
      "text/plain": [
       "'Quick Bites'"
      ]
     },
     "execution_count": 155,
     "metadata": {},
     "output_type": "execute_result"
    }
   ],
   "source": [
    "complaint_prone_types.idxmax()"
   ]
  },
  {
   "cell_type": "code",
   "execution_count": 156,
   "id": "6d36981e",
   "metadata": {},
   "outputs": [
    {
     "data": {
      "text/plain": [
       "738"
      ]
     },
     "execution_count": 156,
     "metadata": {},
     "output_type": "execute_result"
    }
   ],
   "source": [
    "complaint_prone_types.max()"
   ]
  },
  {
   "cell_type": "markdown",
   "id": "29c79e11",
   "metadata": {},
   "source": [
    "# 15. In which area should Zomato invest by considering high rating (rate > 4.2), high number of votes (> 500) and including online orders?"
   ]
  },
  {
   "cell_type": "code",
   "execution_count": 157,
   "id": "e959196e",
   "metadata": {},
   "outputs": [],
   "source": [
    "target_df = df1[(df1['rate'] > 4.2) & (df1['votes'] > 500) & (df1['online_order'] == 1)]"
   ]
  },
  {
   "cell_type": "code",
   "execution_count": 158,
   "id": "f48e0666",
   "metadata": {},
   "outputs": [
    {
     "data": {
      "text/plain": [
       "listed_incity\n",
       "Koramangala 7th Block    97\n",
       "MG Road                  97\n",
       "Church Street            95\n",
       "Koramangala 4th Block    95\n",
       "Brigade Road             94\n",
       "Koramangala 5th Block    92\n",
       "BTM                      91\n",
       "Koramangala 6th Block    90\n",
       "Lavelle Road             82\n",
       "Residency Road           81\n",
       "Indiranagar              80\n",
       "Old Airport Road         64\n",
       "Frazer Town              56\n",
       "Jayanagar                56\n",
       "Bellandur                55\n",
       "Whitefield               44\n",
       "Sarjapur Road            43\n",
       "HSR                      41\n",
       "JP Nagar                 38\n",
       "Brookefield              34\n",
       "Marathahalli             32\n",
       "Malleshwaram             31\n",
       "Basavanagudi             24\n",
       "Kammanahalli             23\n",
       "Kalyan Nagar             23\n",
       "Rajajinagar              22\n",
       "Bannerghatta Road        19\n",
       "Banashankari             11\n",
       "New BEL Road              9\n",
       "Electronic City           7\n",
       "Name: count, dtype: int64"
      ]
     },
     "execution_count": 158,
     "metadata": {},
     "output_type": "execute_result"
    }
   ],
   "source": [
    "area_counts = target_df['listed_incity'].value_counts()\n",
    "area_counts"
   ]
  },
  {
   "cell_type": "code",
   "execution_count": 159,
   "id": "9bfa5f08",
   "metadata": {},
   "outputs": [
    {
     "data": {
      "text/plain": [
       "'Koramangala 7th Block'"
      ]
     },
     "execution_count": 159,
     "metadata": {},
     "output_type": "execute_result"
    }
   ],
   "source": [
    "area_counts.idxmax()"
   ]
  },
  {
   "cell_type": "code",
   "execution_count": 160,
   "id": "563d2718",
   "metadata": {},
   "outputs": [
    {
     "data": {
      "text/plain": [
       "97"
      ]
     },
     "execution_count": 160,
     "metadata": {},
     "output_type": "execute_result"
    }
   ],
   "source": [
    "area_counts.max()\n"
   ]
  },
  {
   "cell_type": "markdown",
   "id": "18c43eba",
   "metadata": {},
   "source": [
    "# Exploratory data analysis"
   ]
  },
  {
   "cell_type": "code",
   "execution_count": 184,
   "id": "ef1c6fc5",
   "metadata": {},
   "outputs": [],
   "source": [
    "sns.set(style=\"whitegrid\")\n",
    "plt.rcParams['figure.figsize'] = (12, 6)"
   ]
  },
  {
   "cell_type": "code",
   "execution_count": 185,
   "id": "30313e58",
   "metadata": {},
   "outputs": [],
   "source": [
    "from collections import Counter"
   ]
  },
  {
   "cell_type": "code",
   "execution_count": 187,
   "id": "786df6ef",
   "metadata": {},
   "outputs": [
    {
     "data": {
      "image/png": "[encoded data removed]",
      "text/plain": [
       "<Figure size 1200x600 with 1 Axes>"
      ]
     },
     "metadata": {},
     "output_type": "display_data"
    }
   ],
   "source": [
    "cuisine_list = df1['cuisines_split'].dropna().explode()\n",
    "top_cuisines = pd.Series(cuisine_list).value_counts().head(10)\n",
    "\n",
    "sns.barplot(x=top_cuisines.values, y=top_cuisines.index, palette=\"viridis\")\n",
    "plt.title(\"Top 10 Cuisines in Bangalore Restaurants\")\n",
    "plt.xlabel(\"Number of Restaurants\")\n",
    "plt.ylabel(\"Cuisine Type\")\n",
    "plt.show()"
   ]
  },
  {
   "cell_type": "code",
   "execution_count": 188,
   "id": "e575f808",
   "metadata": {},
   "outputs": [
    {
     "name": "stderr",
     "output_type": "stream",
     "text": [
      "C:\\Users\\santosh\\anaconda3\\lib\\site-packages\\seaborn\\_oldcore.py:1119: FutureWarning: use_inf_as_na option is deprecated and will be removed in a future version. Convert inf values to NaN before operating instead.\n",
      "  with pd.option_context('mode.use_inf_as_na', True):\n"
     ]
    },
    {
     "data": {
      "image/png": "[encoded data removed]",
      "text/plain": [
       "<Figure size 1200x600 with 1 Axes>"
      ]
     },
     "metadata": {},
     "output_type": "display_data"
    }
   ],
   "source": [
    "\n",
    "\n",
    "sns.histplot(df1['rate'].dropna(), bins=20, kde=True, color='teal')\n",
    "plt.title(\"Distribution of Restaurant Ratings\")\n",
    "plt.xlabel(\"Rating\")\n",
    "plt.ylabel(\"Number of Restaurants\")\n",
    "plt.show()"
   ]
  },
  {
   "cell_type": "code",
   "execution_count": 189,
   "id": "3d4a1ba6",
   "metadata": {},
   "outputs": [
    {
     "name": "stderr",
     "output_type": "stream",
     "text": [
      "C:\\Users\\santosh\\anaconda3\\lib\\site-packages\\seaborn\\_oldcore.py:1119: FutureWarning: use_inf_as_na option is deprecated and will be removed in a future version. Convert inf values to NaN before operating instead.\n",
      "  with pd.option_context('mode.use_inf_as_na', True):\n"
     ]
    },
    {
     "data": {
      "image/png": "[encoded data removed]",
      "text/plain": [
       "<Figure size 1200x600 with 1 Axes>"
      ]
     },
     "metadata": {},
     "output_type": "display_data"
    }
   ],
   "source": [
    "cost_clean = df1[df1['approx_costfor_two_people'] < 3000]\n",
    "\n",
    "sns.histplot(cost_clean['approx_costfor_two_people'], bins=30, color='salmon', kde=True)\n",
    "plt.title(\"Approximate Cost for Two People (Bangalore)\")\n",
    "plt.xlabel(\"Cost\")\n",
    "plt.ylabel(\"Frequency\")\n",
    "plt.show()"
   ]
  },
  {
   "cell_type": "code",
   "execution_count": 190,
   "id": "ee06dd2e",
   "metadata": {},
   "outputs": [
    {
     "data": {
      "image/png": "[encoded data removed]",
      "text/plain": [
       "<Figure size 1200x600 with 1 Axes>"
      ]
     },
     "metadata": {},
     "output_type": "display_data"
    }
   ],
   "source": [
    "top_localities = df1['listed_incity'].value_counts().head(10)\n",
    "\n",
    "sns.barplot(x=top_localities.values, y=top_localities.index, palette='Set2')\n",
    "plt.title(\"Top 10 Localities with Highest Number of Restaurants\")\n",
    "plt.xlabel(\"Number of Restaurants\")\n",
    "plt.ylabel(\"Locality\")\n",
    "plt.show()"
   ]
  },
  {
   "cell_type": "code",
   "execution_count": 191,
   "id": "964414ff",
   "metadata": {},
   "outputs": [
    {
     "data": {
      "image/png": "[encoded data removed]",
      "text/plain": [
       "<Figure size 1200x600 with 1 Axes>"
      ]
     },
     "metadata": {},
     "output_type": "display_data"
    }
   ],
   "source": [
    "revenue_by_locality = df1.groupby('listed_incity')['estimated_revenue'].mean().sort_values(ascending=False).head(10)\n",
    "\n",
    "sns.barplot(x=revenue_by_locality.values, y=revenue_by_locality.index, palette='coolwarm')\n",
    "plt.title(\"Top 10 Revenue Generating Localities\")\n",
    "plt.xlabel(\"Average Estimated Revenue\")\n",
    "plt.ylabel(\"Locality\")\n",
    "plt.show()"
   ]
  },
  {
   "cell_type": "code",
   "execution_count": 192,
   "id": "00c1a5c9",
   "metadata": {},
   "outputs": [
    {
     "data": {
      "image/png": "[encoded data removed]",
      "text/plain": [
       "<Figure size 1200x600 with 1 Axes>"
      ]
     },
     "metadata": {},
     "output_type": "display_data"
    }
   ],
   "source": [
    "top_rest_types = df1['rest_type'].value_counts().head(6).index\n",
    "sns.boxplot(data=df1[df1['rest_type'].isin(top_rest_types)],\n",
    "            x='rest_type', y='approx_costfor_two_people', palette=\"pastel\")\n",
    "plt.xticks(rotation=45)\n",
    "plt.title(\"Cost Distribution by Restaurant Type\")\n",
    "plt.ylabel(\"Cost for Two\")\n",
    "plt.xlabel(\"Restaurant Type\")\n",
    "plt.show()"
   ]
  },
  {
   "cell_type": "code",
   "execution_count": 194,
   "id": "456ac6bc",
   "metadata": {},
   "outputs": [
    {
     "data": {
      "image/png": "[encoded data removed]",
      "text/plain": [
       "<Figure size 1200x600 with 1 Axes>"
      ]
     },
     "metadata": {},
     "output_type": "display_data"
    }
   ],
   "source": [
    "sns.scatterplot(data=df1[df1['votes'] < 5000], x='votes', y='rate', alpha=0.5, color='purple')\n",
    "plt.title(\"Votes vs Rating\")\n",
    "plt.xlabel(\"Votes\")\n",
    "plt.ylabel(\"Rating\")\n",
    "plt.show()"
   ]
  },
  {
   "cell_type": "markdown",
   "id": "db82f479",
   "metadata": {},
   "source": [
    "# Interactive Restaurant Density Mapping "
   ]
  },
  {
   "cell_type": "code",
   "execution_count": 163,
   "id": "0731d5a5",
   "metadata": {},
   "outputs": [],
   "source": [
    "merge_df  = pd.merge(df1, df2,on='listed_incity', how='left')"
   ]
  },
  {
   "cell_type": "code",
   "execution_count": 164,
   "id": "5e79af75",
   "metadata": {},
   "outputs": [
    {
     "data": {
      "text/html": [
       "<div>\n",
       "<style scoped>\n",
       "    .dataframe tbody tr th:only-of-type {\n",
       "        vertical-align: middle;\n",
       "    }\n",
       "\n",
       "    .dataframe tbody tr th {\n",
       "        vertical-align: top;\n",
       "    }\n",
       "\n",
       "    .dataframe thead th {\n",
       "        text-align: right;\n",
       "    }\n",
       "</style>\n",
       "<table border=\"1\" class=\"dataframe\">\n",
       "  <thead>\n",
       "    <tr style=\"text-align: right;\">\n",
       "      <th></th>\n",
       "      <th>online_order</th>\n",
       "      <th>book_table</th>\n",
       "      <th>rate</th>\n",
       "      <th>votes</th>\n",
       "      <th>rest_type</th>\n",
       "      <th>dish_liked</th>\n",
       "      <th>cuisines</th>\n",
       "      <th>approx_costfor_two_people</th>\n",
       "      <th>listed_intype</th>\n",
       "      <th>listed_incity</th>\n",
       "      <th>cuisines_split</th>\n",
       "      <th>estimated_revenue</th>\n",
       "      <th>Latitude</th>\n",
       "      <th>Longitude</th>\n",
       "    </tr>\n",
       "  </thead>\n",
       "  <tbody>\n",
       "    <tr>\n",
       "      <th>0</th>\n",
       "      <td>1</td>\n",
       "      <td>1</td>\n",
       "      <td>4.1</td>\n",
       "      <td>775</td>\n",
       "      <td>Casual Dining</td>\n",
       "      <td>Pasta, Lunch Buffet, Masala Papad, Paneer Laja...</td>\n",
       "      <td>North Indian, Mughlai, Chinese</td>\n",
       "      <td>800</td>\n",
       "      <td>Buffet</td>\n",
       "      <td>Banashankari</td>\n",
       "      <td>[North Indian, Mughlai, Chinese]</td>\n",
       "      <td>620000</td>\n",
       "      <td>12.939333</td>\n",
       "      <td>77.553982</td>\n",
       "    </tr>\n",
       "    <tr>\n",
       "      <th>1</th>\n",
       "      <td>1</td>\n",
       "      <td>0</td>\n",
       "      <td>4.1</td>\n",
       "      <td>787</td>\n",
       "      <td>Casual Dining</td>\n",
       "      <td>Momos, Lunch Buffet, Chocolate Nirvana, Thai G...</td>\n",
       "      <td>Chinese, North Indian, Thai</td>\n",
       "      <td>800</td>\n",
       "      <td>Buffet</td>\n",
       "      <td>Banashankari</td>\n",
       "      <td>[Chinese, North Indian, Thai]</td>\n",
       "      <td>629600</td>\n",
       "      <td>12.939333</td>\n",
       "      <td>77.553982</td>\n",
       "    </tr>\n",
       "    <tr>\n",
       "      <th>2</th>\n",
       "      <td>1</td>\n",
       "      <td>0</td>\n",
       "      <td>3.8</td>\n",
       "      <td>918</td>\n",
       "      <td>Cafe, Casual Dining</td>\n",
       "      <td>Churros, Cannelloni, Minestrone Soup, Hot Choc...</td>\n",
       "      <td>Cafe, Mexican, Italian</td>\n",
       "      <td>800</td>\n",
       "      <td>Buffet</td>\n",
       "      <td>Banashankari</td>\n",
       "      <td>[Cafe, Mexican, Italian]</td>\n",
       "      <td>734400</td>\n",
       "      <td>12.939333</td>\n",
       "      <td>77.553982</td>\n",
       "    </tr>\n",
       "    <tr>\n",
       "      <th>3</th>\n",
       "      <td>0</td>\n",
       "      <td>0</td>\n",
       "      <td>3.7</td>\n",
       "      <td>88</td>\n",
       "      <td>Quick Bites</td>\n",
       "      <td>Masala Dosa</td>\n",
       "      <td>South Indian, North Indian</td>\n",
       "      <td>300</td>\n",
       "      <td>Buffet</td>\n",
       "      <td>Banashankari</td>\n",
       "      <td>[South Indian, North Indian]</td>\n",
       "      <td>26400</td>\n",
       "      <td>12.939333</td>\n",
       "      <td>77.553982</td>\n",
       "    </tr>\n",
       "    <tr>\n",
       "      <th>4</th>\n",
       "      <td>0</td>\n",
       "      <td>0</td>\n",
       "      <td>3.8</td>\n",
       "      <td>166</td>\n",
       "      <td>Casual Dining</td>\n",
       "      <td>Panipuri, Gol Gappe</td>\n",
       "      <td>North Indian, Rajasthani</td>\n",
       "      <td>600</td>\n",
       "      <td>Buffet</td>\n",
       "      <td>Banashankari</td>\n",
       "      <td>[North Indian, Rajasthani]</td>\n",
       "      <td>99600</td>\n",
       "      <td>12.939333</td>\n",
       "      <td>77.553982</td>\n",
       "    </tr>\n",
       "  </tbody>\n",
       "</table>\n",
       "</div>"
      ],
      "text/plain": [
       "   online_order  book_table  rate  votes            rest_type  \\\n",
       "0             1           1   4.1    775        Casual Dining   \n",
       "1             1           0   4.1    787        Casual Dining   \n",
       "2             1           0   3.8    918  Cafe, Casual Dining   \n",
       "3             0           0   3.7     88          Quick Bites   \n",
       "4             0           0   3.8    166        Casual Dining   \n",
       "\n",
       "                                          dish_liked  \\\n",
       "0  Pasta, Lunch Buffet, Masala Papad, Paneer Laja...   \n",
       "1  Momos, Lunch Buffet, Chocolate Nirvana, Thai G...   \n",
       "2  Churros, Cannelloni, Minestrone Soup, Hot Choc...   \n",
       "3                                        Masala Dosa   \n",
       "4                                Panipuri, Gol Gappe   \n",
       "\n",
       "                         cuisines  approx_costfor_two_people listed_intype  \\\n",
       "0  North Indian, Mughlai, Chinese                        800        Buffet   \n",
       "1     Chinese, North Indian, Thai                        800        Buffet   \n",
       "2          Cafe, Mexican, Italian                        800        Buffet   \n",
       "3      South Indian, North Indian                        300        Buffet   \n",
       "4        North Indian, Rajasthani                        600        Buffet   \n",
       "\n",
       "  listed_incity                    cuisines_split  estimated_revenue  \\\n",
       "0  Banashankari  [North Indian, Mughlai, Chinese]             620000   \n",
       "1  Banashankari     [Chinese, North Indian, Thai]             629600   \n",
       "2  Banashankari          [Cafe, Mexican, Italian]             734400   \n",
       "3  Banashankari      [South Indian, North Indian]              26400   \n",
       "4  Banashankari        [North Indian, Rajasthani]              99600   \n",
       "\n",
       "    Latitude  Longitude  \n",
       "0  12.939333  77.553982  \n",
       "1  12.939333  77.553982  \n",
       "2  12.939333  77.553982  \n",
       "3  12.939333  77.553982  \n",
       "4  12.939333  77.553982  "
      ]
     },
     "execution_count": 164,
     "metadata": {},
     "output_type": "execute_result"
    }
   ],
   "source": [
    "merge_df.head()"
   ]
  },
  {
   "cell_type": "code",
   "execution_count": 174,
   "id": "38717b9d",
   "metadata": {},
   "outputs": [],
   "source": [
    "merge_df = merge_df.dropna(subset=['Latitude', 'Longitude'])"
   ]
  },
  {
   "cell_type": "code",
   "execution_count": 165,
   "id": "fb1e59a0",
   "metadata": {},
   "outputs": [],
   "source": [
    "from folium.plugins import MarkerCluster\n",
    "import folium\n",
    "from IPython.display import IFrame"
   ]
  },
  {
   "cell_type": "code",
   "execution_count": 166,
   "id": "19ef5cc3",
   "metadata": {},
   "outputs": [],
   "source": [
    "map_1 = folium.Map(location=[12.9716, 77.5946], zoom_start=12)\n",
    "\n",
    "marker_cluster = MarkerCluster().add_to(map_1)"
   ]
  },
  {
   "cell_type": "code",
   "execution_count": 169,
   "id": "fd1e43e9",
   "metadata": {},
   "outputs": [
    {
     "data": {
      "text/html": [
       "<div>\n",
       "<style scoped>\n",
       "    .dataframe tbody tr th:only-of-type {\n",
       "        vertical-align: middle;\n",
       "    }\n",
       "\n",
       "    .dataframe tbody tr th {\n",
       "        vertical-align: top;\n",
       "    }\n",
       "\n",
       "    .dataframe thead th {\n",
       "        text-align: right;\n",
       "    }\n",
       "</style>\n",
       "<table border=\"1\" class=\"dataframe\">\n",
       "  <thead>\n",
       "    <tr style=\"text-align: right;\">\n",
       "      <th></th>\n",
       "      <th>online_order</th>\n",
       "      <th>book_table</th>\n",
       "      <th>rate</th>\n",
       "      <th>votes</th>\n",
       "      <th>rest_type</th>\n",
       "      <th>dish_liked</th>\n",
       "      <th>cuisines</th>\n",
       "      <th>approx_costfor_two_people</th>\n",
       "      <th>listed_intype</th>\n",
       "      <th>listed_incity</th>\n",
       "      <th>cuisines_split</th>\n",
       "      <th>estimated_revenue</th>\n",
       "      <th>Latitude</th>\n",
       "      <th>Longitude</th>\n",
       "    </tr>\n",
       "  </thead>\n",
       "  <tbody>\n",
       "    <tr>\n",
       "      <th>0</th>\n",
       "      <td>1</td>\n",
       "      <td>1</td>\n",
       "      <td>4.1</td>\n",
       "      <td>775</td>\n",
       "      <td>Casual Dining</td>\n",
       "      <td>Pasta, Lunch Buffet, Masala Papad, Paneer Laja...</td>\n",
       "      <td>North Indian, Mughlai, Chinese</td>\n",
       "      <td>800</td>\n",
       "      <td>Buffet</td>\n",
       "      <td>Banashankari</td>\n",
       "      <td>[North Indian, Mughlai, Chinese]</td>\n",
       "      <td>620000</td>\n",
       "      <td>12.939333</td>\n",
       "      <td>77.553982</td>\n",
       "    </tr>\n",
       "  </tbody>\n",
       "</table>\n",
       "</div>"
      ],
      "text/plain": [
       "   online_order  book_table  rate  votes      rest_type  \\\n",
       "0             1           1   4.1    775  Casual Dining   \n",
       "\n",
       "                                          dish_liked  \\\n",
       "0  Pasta, Lunch Buffet, Masala Papad, Paneer Laja...   \n",
       "\n",
       "                         cuisines  approx_costfor_two_people listed_intype  \\\n",
       "0  North Indian, Mughlai, Chinese                        800        Buffet   \n",
       "\n",
       "  listed_incity                    cuisines_split  estimated_revenue  \\\n",
       "0  Banashankari  [North Indian, Mughlai, Chinese]             620000   \n",
       "\n",
       "    Latitude  Longitude  \n",
       "0  12.939333  77.553982  "
      ]
     },
     "execution_count": 169,
     "metadata": {},
     "output_type": "execute_result"
    }
   ],
   "source": [
    "merge_df.head(1)"
   ]
  },
  {
   "cell_type": "code",
   "execution_count": 176,
   "id": "3e23a063",
   "metadata": {},
   "outputs": [],
   "source": [
    "for i, row in merge_df.iterrows():\n",
    "    if not pd.isna(row['Latitude'] and not pd.isna(row['Longitude'])):\n",
    "        folium.Marker(\n",
    "            location=[row['Latitude'], row['Longitude']],\n",
    "            popup  = f\"{row['listed_incity']}<br>Rating: {row['rate']}<br>Cost: {row['approx_costfor_two_people']}<br>Restaurant type: {row['rest_type']}\"\n",
    "        ).add_to(marker_cluster)\n",
    "        \n",
    "map_1.save('Desktop/zomato_data/restaurant_density.html')"
   ]
  },
  {
   "cell_type": "code",
   "execution_count": 182,
   "id": "4b07e948",
   "metadata": {
    "scrolled": true
   },
   "outputs": [
    {
     "data": {
      "text/html": [
       "\n",
       "        <iframe\n",
       "            width=\"1000\"\n",
       "            height=\"500\"\n",
       "            src=\"Desktop/zomato_data/restaurant_density.html\"\n",
       "            frameborder=\"0\"\n",
       "            allowfullscreen\n",
       "            \n",
       "        ></iframe>\n",
       "        "
      ],
      "text/plain": [
       "<IPython.lib.display.IFrame at 0x1ea5e1d7d00>"
      ]
     },
     "execution_count": 182,
     "metadata": {},
     "output_type": "execute_result"
    }
   ],
   "source": [
    "from IPython.display import IFrame\n",
    "\n",
    "IFrame('Desktop/zomato_data/restaurant_density.html', width=1000, height=500)"
   ]
  },
  {
   "cell_type": "markdown",
   "id": "e45aeb8e",
   "metadata": {},
   "source": [
    "# Cuisine-Specific Map – Italian Restaurants"
   ]
  },
  {
   "cell_type": "code",
   "execution_count": 178,
   "id": "59903d07",
   "metadata": {},
   "outputs": [
    {
     "data": {
      "text/html": [
       "<div>\n",
       "<style scoped>\n",
       "    .dataframe tbody tr th:only-of-type {\n",
       "        vertical-align: middle;\n",
       "    }\n",
       "\n",
       "    .dataframe tbody tr th {\n",
       "        vertical-align: top;\n",
       "    }\n",
       "\n",
       "    .dataframe thead th {\n",
       "        text-align: right;\n",
       "    }\n",
       "</style>\n",
       "<table border=\"1\" class=\"dataframe\">\n",
       "  <thead>\n",
       "    <tr style=\"text-align: right;\">\n",
       "      <th></th>\n",
       "      <th>online_order</th>\n",
       "      <th>book_table</th>\n",
       "      <th>rate</th>\n",
       "      <th>votes</th>\n",
       "      <th>rest_type</th>\n",
       "      <th>dish_liked</th>\n",
       "      <th>cuisines</th>\n",
       "      <th>approx_costfor_two_people</th>\n",
       "      <th>listed_intype</th>\n",
       "      <th>listed_incity</th>\n",
       "      <th>cuisines_split</th>\n",
       "      <th>estimated_revenue</th>\n",
       "      <th>Latitude</th>\n",
       "      <th>Longitude</th>\n",
       "    </tr>\n",
       "  </thead>\n",
       "  <tbody>\n",
       "    <tr>\n",
       "      <th>0</th>\n",
       "      <td>1</td>\n",
       "      <td>1</td>\n",
       "      <td>4.1</td>\n",
       "      <td>775</td>\n",
       "      <td>Casual Dining</td>\n",
       "      <td>Pasta, Lunch Buffet, Masala Papad, Paneer Laja...</td>\n",
       "      <td>North Indian, Mughlai, Chinese</td>\n",
       "      <td>800</td>\n",
       "      <td>Buffet</td>\n",
       "      <td>Banashankari</td>\n",
       "      <td>[North Indian, Mughlai, Chinese]</td>\n",
       "      <td>620000</td>\n",
       "      <td>12.939333</td>\n",
       "      <td>77.553982</td>\n",
       "    </tr>\n",
       "  </tbody>\n",
       "</table>\n",
       "</div>"
      ],
      "text/plain": [
       "   online_order  book_table  rate  votes      rest_type  \\\n",
       "0             1           1   4.1    775  Casual Dining   \n",
       "\n",
       "                                          dish_liked  \\\n",
       "0  Pasta, Lunch Buffet, Masala Papad, Paneer Laja...   \n",
       "\n",
       "                         cuisines  approx_costfor_two_people listed_intype  \\\n",
       "0  North Indian, Mughlai, Chinese                        800        Buffet   \n",
       "\n",
       "  listed_incity                    cuisines_split  estimated_revenue  \\\n",
       "0  Banashankari  [North Indian, Mughlai, Chinese]             620000   \n",
       "\n",
       "    Latitude  Longitude  \n",
       "0  12.939333  77.553982  "
      ]
     },
     "execution_count": 178,
     "metadata": {},
     "output_type": "execute_result"
    }
   ],
   "source": [
    "merge_df.head(1)"
   ]
  },
  {
   "cell_type": "code",
   "execution_count": 179,
   "id": "4f95c0e3",
   "metadata": {},
   "outputs": [],
   "source": [
    "italian_df = merge_df[merge_df['cuisines'].str.contains('Italian', na =False)]\n"
   ]
  },
  {
   "cell_type": "code",
   "execution_count": 180,
   "id": "7d286228",
   "metadata": {},
   "outputs": [],
   "source": [
    "map_2 = folium.Map(location=[12.9716, 77.5946], zoom_start=12)\n",
    "\n",
    "for i, row in italian_df.iterrows():\n",
    "    folium.Marker(\n",
    "        location=[row['Latitude'], row['Longitude']],\n",
    "        popup  = f\"{row['listed_incity']}<br>Cuisine: {row['cuisines']}<br>Cost: {row['approx_costfor_two_people']}\",\n",
    "        icon= folium.Icon(color = 'purple')\n",
    "        ).add_to(map_2)\n",
    "    \n",
    "map_2.save('Desktop/zomato_data/italian_spots.html')"
   ]
  },
  {
   "cell_type": "code",
   "execution_count": 181,
   "id": "ce3a0462",
   "metadata": {},
   "outputs": [
    {
     "data": {
      "text/html": [
       "\n",
       "        <iframe\n",
       "            width=\"1000\"\n",
       "            height=\"500\"\n",
       "            src=\"Desktop/zomato_data/italian_spots.html\"\n",
       "            frameborder=\"0\"\n",
       "            allowfullscreen\n",
       "            \n",
       "        ></iframe>\n",
       "        "
      ],
      "text/plain": [
       "<IPython.lib.display.IFrame at 0x1ea5e1d7070>"
      ]
     },
     "execution_count": 181,
     "metadata": {},
     "output_type": "execute_result"
    }
   ],
   "source": [
    "from IPython.display import IFrame\n",
    "\n",
    "IFrame('Desktop/zomato_data/italian_spots.html', width=1000, height=500)"
   ]
  },
  {
   "cell_type": "code",
   "execution_count": null,
   "id": "7799e969",
   "metadata": {},
   "outputs": [],
   "source": []
  }
 ],
 "metadata": {
  "kernelspec": {
   "display_name": "Python 3 (ipykernel)",
   "language": "python",
   "name": "python3"
  },
  "language_info": {
   "codemirror_mode": {
    "name": "ipython",
    "version": 3
   },
   "file_extension": ".py",
   "mimetype": "text/x-python",
   "name": "python",
   "nbconvert_exporter": "python",
   "pygments_lexer": "ipython3",
   "version": "3.10.9"
  }
 },
 "nbformat": 4,
 "nbformat_minor": 5
}
